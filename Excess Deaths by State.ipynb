{
 "cells": [
  {
   "cell_type": "markdown",
   "id": "7b59fff7-92f5-46f2-9589-255f5b5986bb",
   "metadata": {},
   "source": [
    "# Analysis of Excess Deaths & Vaccine Status by US States"
   ]
  },
  {
   "cell_type": "code",
   "execution_count": 53,
   "id": "edfe1ba4-e571-47f9-80c0-8fb36c0765a3",
   "metadata": {},
   "outputs": [],
   "source": [
    "import pandas as pd\n",
    "import numpy as np\n",
    "import datetime\n",
    "import calendar\n",
    "import requests\n",
    "import os\n",
    "\n",
    "import statsmodels.formula.api as smf\n",
    "import statsmodels.api as sm"
   ]
  },
  {
   "cell_type": "code",
   "execution_count": 54,
   "id": "a5a76213-0011-4511-a00d-6cdaada14f8e",
   "metadata": {},
   "outputs": [],
   "source": [
    "start_date = datetime.date(2022, 1, 1)"
   ]
  },
  {
   "cell_type": "code",
   "execution_count": 55,
   "id": "c2e57577-de02-45c1-8638-eae354ce2e90",
   "metadata": {},
   "outputs": [],
   "source": [
    "end_date = datetime.date(2022, 10, 1)"
   ]
  },
  {
   "cell_type": "markdown",
   "id": "7926371d-fccd-4730-b629-017840077e16",
   "metadata": {},
   "source": [
    "### Data Sources"
   ]
  },
  {
   "cell_type": "code",
   "execution_count": 56,
   "id": "9fa155a3-5a0d-4df4-b978-de31681b2c5b",
   "metadata": {},
   "outputs": [],
   "source": [
    "# https://data.cdc.gov/NCHS/Excess-Deaths-Associated-with-COVID-19/xkkf-xrst\n",
    "excess_deaths = \"Excess_Deaths_Associated_with_COVID-19.csv\"\n",
    "vaccinated = \"https://github.com/owid/covid-19-data/raw/master/public/data/vaccinations/us_state_vaccinations.csv\"\n",
    "state_demographics = \"https://corgis-edu.github.io/corgis/datasets/csv/state_demographics/state_demographics.csv\""
   ]
  },
  {
   "cell_type": "code",
   "execution_count": 57,
   "id": "1e38f0ee-43fb-43d3-af17-abd9b45bea60",
   "metadata": {},
   "outputs": [],
   "source": [
    "ef = pd.read_csv(excess_deaths)"
   ]
  },
  {
   "cell_type": "code",
   "execution_count": 58,
   "id": "b0c78df9-8b73-4784-841a-b2352d29f02f",
   "metadata": {},
   "outputs": [],
   "source": [
    "ef['Excess Estimate'] = pd.to_numeric(ef['Excess Estimate'], errors='coerce').fillna(0)"
   ]
  },
  {
   "cell_type": "code",
   "execution_count": 59,
   "id": "4a5eb7bb-f1c9-4359-98e9-2c752c23cb81",
   "metadata": {},
   "outputs": [],
   "source": [
    "ef['Week Ending Date'] = pd.to_datetime(ef['Week Ending Date'], errors='coerce').dt.date"
   ]
  },
  {
   "cell_type": "code",
   "execution_count": 60,
   "id": "dbc5a4bf-ab46-422b-abc0-c29fdb8f7558",
   "metadata": {},
   "outputs": [
    {
     "data": {
      "text/plain": [
       "(6480, 16524)"
      ]
     },
     "execution_count": 60,
     "metadata": {},
     "output_type": "execute_result"
    }
   ],
   "source": [
    "date_mask = (ef['Week Ending Date'] >= start_date) & (ef['Week Ending Date'] <= end_date)\n",
    "cause_mask = (ef['Outcome'] == 'All causes, excluding COVID-19')\n",
    "sum(date_mask), sum(cause_mask)"
   ]
  },
  {
   "cell_type": "code",
   "execution_count": 61,
   "id": "78ec3c98-accc-4eb7-b75c-cec7bca16760",
   "metadata": {},
   "outputs": [],
   "source": [
    "ef = ef[date_mask & cause_mask]"
   ]
  },
  {
   "cell_type": "code",
   "execution_count": 62,
   "id": "1db0f856-152d-4bc4-9436-d2a4743f418a",
   "metadata": {},
   "outputs": [],
   "source": [
    "ef = ef.groupby('State').sum()"
   ]
  },
  {
   "cell_type": "code",
   "execution_count": 63,
   "id": "24c57513-c254-4e74-8253-5e04fb464dbb",
   "metadata": {},
   "outputs": [],
   "source": [
    "ef = ef['Excess Estimate'].to_frame()"
   ]
  },
  {
   "cell_type": "markdown",
   "id": "ec6585df-a9bc-4f40-a2c3-8d17c2e60993",
   "metadata": {},
   "source": [
    "### State Demographics"
   ]
  },
  {
   "cell_type": "code",
   "execution_count": 64,
   "id": "49387846-5210-4339-bbdb-e50f7a991d5a",
   "metadata": {},
   "outputs": [],
   "source": [
    "df = pd.read_csv(state_demographics)"
   ]
  },
  {
   "cell_type": "code",
   "execution_count": 65,
   "id": "1030641f-1512-42cf-99ed-cebe77d7a329",
   "metadata": {},
   "outputs": [],
   "source": [
    "df = df.set_index('State')"
   ]
  },
  {
   "cell_type": "code",
   "execution_count": null,
   "id": "942b1d43-5114-41fd-b7c7-66390c2aafe9",
   "metadata": {},
   "outputs": [],
   "source": []
  },
  {
   "cell_type": "code",
   "execution_count": 66,
   "id": "e55e9771-02ce-4aca-b16a-ea6dee41a42f",
   "metadata": {},
   "outputs": [],
   "source": [
    "df = df.rename(columns={'Population.2014 Population':'Population', 'Age.Percent 65 and Older':'Pop65', \n",
    "                        'Income.Per Capita Income':'Income', 'Income.Persons Below Poverty Level':'Poor',\n",
    "                       'Population.Population per Square Mile':'PopDensity'})"
   ]
  },
  {
   "cell_type": "code",
   "execution_count": 67,
   "id": "fcc8a3f8-46eb-4e8f-9e66-8b16a61be0b1",
   "metadata": {},
   "outputs": [],
   "source": [
    "df = df['Population'].to_frame()"
   ]
  },
  {
   "cell_type": "markdown",
   "id": "bfd34970-3c41-47d7-8e38-6ac1abe0ed84",
   "metadata": {},
   "source": [
    "## Vaccinated"
   ]
  },
  {
   "cell_type": "code",
   "execution_count": 68,
   "id": "b8071d14-d398-46c0-aea3-3e922db5c28b",
   "metadata": {},
   "outputs": [],
   "source": [
    "vf = pd.read_csv(vaccinated)"
   ]
  },
  {
   "cell_type": "code",
   "execution_count": 69,
   "id": "eb86d910-a6aa-440d-a25b-131795047d22",
   "metadata": {},
   "outputs": [],
   "source": [
    "vf = vf.groupby('location').max()\n",
    "vf = vf['people_fully_vaccinated_per_hundred'].to_frame()"
   ]
  },
  {
   "cell_type": "code",
   "execution_count": 70,
   "id": "f5925548-dfd7-4816-84c1-bc136031dbc5",
   "metadata": {},
   "outputs": [],
   "source": [
    "vf.columns = ['Vaccinated']"
   ]
  },
  {
   "cell_type": "markdown",
   "id": "1bb2ba99-6354-4fc7-b83d-4522ecd03b86",
   "metadata": {},
   "source": [
    "## Merge"
   ]
  },
  {
   "cell_type": "code",
   "execution_count": 71,
   "id": "a85eddd7-b54a-4017-a0f0-a96f6bb6dc41",
   "metadata": {},
   "outputs": [],
   "source": [
    "df = df.merge(vf, how='left', right_index=True, left_index=True)"
   ]
  },
  {
   "cell_type": "code",
   "execution_count": 72,
   "id": "9763ef73-4560-42ba-bb38-f606e3fde6ee",
   "metadata": {},
   "outputs": [],
   "source": [
    "df = df.merge(ef, how='left', right_index=True, left_index=True)"
   ]
  },
  {
   "cell_type": "code",
   "execution_count": 73,
   "id": "695ec047-34de-4108-a9b8-2ddc13ff681f",
   "metadata": {},
   "outputs": [],
   "source": [
    "df['ExcessPer100k'] = df['Excess Estimate'] * 100000 / df['Population']"
   ]
  },
  {
   "cell_type": "code",
   "execution_count": 74,
   "id": "6d42f6df-5179-4556-8afe-2c9f4825707a",
   "metadata": {},
   "outputs": [],
   "source": [
    "df['Constant'] = 1"
   ]
  },
  {
   "cell_type": "markdown",
   "id": "f752d18b-dfc9-4d02-a68e-4966e3d54ba7",
   "metadata": {},
   "source": [
    "## Model"
   ]
  },
  {
   "cell_type": "code",
   "execution_count": 75,
   "id": "38c3983e-bc8c-4ad2-91b4-f5c11ebff456",
   "metadata": {},
   "outputs": [
    {
     "data": {
      "text/html": [
       "<table class=\"simpletable\">\n",
       "<caption>OLS Regression Results</caption>\n",
       "<tr>\n",
       "  <th>Dep. Variable:</th>      <td>ExcessPer100k</td>  <th>  R-squared:         </th> <td>   0.006</td>\n",
       "</tr>\n",
       "<tr>\n",
       "  <th>Model:</th>                   <td>OLS</td>       <th>  Adj. R-squared:    </th> <td>  -0.014</td>\n",
       "</tr>\n",
       "<tr>\n",
       "  <th>Method:</th>             <td>Least Squares</td>  <th>  F-statistic:       </th> <td>  0.3063</td>\n",
       "</tr>\n",
       "<tr>\n",
       "  <th>Date:</th>             <td>Fri, 25 Nov 2022</td> <th>  Prob (F-statistic):</th>  <td> 0.583</td> \n",
       "</tr>\n",
       "<tr>\n",
       "  <th>Time:</th>                 <td>11:19:43</td>     <th>  Log-Likelihood:    </th> <td> -217.12</td>\n",
       "</tr>\n",
       "<tr>\n",
       "  <th>No. Observations:</th>      <td>    50</td>      <th>  AIC:               </th> <td>   438.2</td>\n",
       "</tr>\n",
       "<tr>\n",
       "  <th>Df Residuals:</th>          <td>    48</td>      <th>  BIC:               </th> <td>   442.1</td>\n",
       "</tr>\n",
       "<tr>\n",
       "  <th>Df Model:</th>              <td>     1</td>      <th>                     </th>     <td> </td>   \n",
       "</tr>\n",
       "<tr>\n",
       "  <th>Covariance Type:</th>      <td>nonrobust</td>    <th>                     </th>     <td> </td>   \n",
       "</tr>\n",
       "</table>\n",
       "<table class=\"simpletable\">\n",
       "<tr>\n",
       "       <td></td>         <th>coef</th>     <th>std err</th>      <th>t</th>      <th>P>|t|</th>  <th>[0.025</th>    <th>0.975]</th>  \n",
       "</tr>\n",
       "<tr>\n",
       "  <th>Vaccinated</th> <td>    0.1567</td> <td>    0.283</td> <td>    0.553</td> <td> 0.583</td> <td>   -0.413</td> <td>    0.726</td>\n",
       "</tr>\n",
       "<tr>\n",
       "  <th>Constant</th>   <td>   19.6419</td> <td>   19.215</td> <td>    1.022</td> <td> 0.312</td> <td>  -18.992</td> <td>   58.276</td>\n",
       "</tr>\n",
       "</table>\n",
       "<table class=\"simpletable\">\n",
       "<tr>\n",
       "  <th>Omnibus:</th>       <td>25.727</td> <th>  Durbin-Watson:     </th> <td>   1.970</td>\n",
       "</tr>\n",
       "<tr>\n",
       "  <th>Prob(Omnibus):</th> <td> 0.000</td> <th>  Jarque-Bera (JB):  </th> <td>  54.082</td>\n",
       "</tr>\n",
       "<tr>\n",
       "  <th>Skew:</th>          <td> 1.463</td> <th>  Prob(JB):          </th> <td>1.80e-12</td>\n",
       "</tr>\n",
       "<tr>\n",
       "  <th>Kurtosis:</th>      <td> 7.171</td> <th>  Cond. No.          </th> <td>    485.</td>\n",
       "</tr>\n",
       "</table><br/><br/>Notes:<br/>[1] Standard Errors assume that the covariance matrix of the errors is correctly specified."
      ],
      "text/plain": [
       "<class 'statsmodels.iolib.summary.Summary'>\n",
       "\"\"\"\n",
       "                            OLS Regression Results                            \n",
       "==============================================================================\n",
       "Dep. Variable:          ExcessPer100k   R-squared:                       0.006\n",
       "Model:                            OLS   Adj. R-squared:                 -0.014\n",
       "Method:                 Least Squares   F-statistic:                    0.3063\n",
       "Date:                Fri, 25 Nov 2022   Prob (F-statistic):              0.583\n",
       "Time:                        11:19:43   Log-Likelihood:                -217.12\n",
       "No. Observations:                  50   AIC:                             438.2\n",
       "Df Residuals:                      48   BIC:                             442.1\n",
       "Df Model:                           1                                         \n",
       "Covariance Type:            nonrobust                                         \n",
       "==============================================================================\n",
       "                 coef    std err          t      P>|t|      [0.025      0.975]\n",
       "------------------------------------------------------------------------------\n",
       "Vaccinated     0.1567      0.283      0.553      0.583      -0.413       0.726\n",
       "Constant      19.6419     19.215      1.022      0.312     -18.992      58.276\n",
       "==============================================================================\n",
       "Omnibus:                       25.727   Durbin-Watson:                   1.970\n",
       "Prob(Omnibus):                  0.000   Jarque-Bera (JB):               54.082\n",
       "Skew:                           1.463   Prob(JB):                     1.80e-12\n",
       "Kurtosis:                       7.171   Cond. No.                         485.\n",
       "==============================================================================\n",
       "\n",
       "Notes:\n",
       "[1] Standard Errors assume that the covariance matrix of the errors is correctly specified.\n",
       "\"\"\""
      ]
     },
     "execution_count": 75,
     "metadata": {},
     "output_type": "execute_result"
    }
   ],
   "source": [
    "mask = df['ExcessPer100k'] > 0\n",
    "model = sm.OLS(df[mask]['ExcessPer100k'], df[mask][['Vaccinated', 'Constant']], missing='drop').fit()\n",
    "model.summary()"
   ]
  }
 ],
 "metadata": {
  "kernelspec": {
   "display_name": "Python 3 (ipykernel)",
   "language": "python",
   "name": "python3"
  },
  "language_info": {
   "codemirror_mode": {
    "name": "ipython",
    "version": 3
   },
   "file_extension": ".py",
   "mimetype": "text/x-python",
   "name": "python",
   "nbconvert_exporter": "python",
   "pygments_lexer": "ipython3",
   "version": "3.9.13"
  }
 },
 "nbformat": 4,
 "nbformat_minor": 5
}
